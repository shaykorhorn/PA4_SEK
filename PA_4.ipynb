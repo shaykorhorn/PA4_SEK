{
 "cells": [
  {
   "cell_type": "markdown",
   "id": "0a110c77",
   "metadata": {},
   "source": [
    "* Programming Assigment 4\n",
    "* Shay Korhorn\n",
    "* Version 1\n",
    "* Fall 2023"
   ]
  },
  {
   "cell_type": "markdown",
   "id": "9e2787a7",
   "metadata": {},
   "source": [
    "# Task 1 : Grade Calculator"
   ]
  },
  {
   "cell_type": "code",
   "execution_count": 1,
   "id": "babcffd6",
   "metadata": {},
   "outputs": [],
   "source": [
    "grades = [85, 92, 78, 65, 43]"
   ]
  },
  {
   "cell_type": "code",
   "execution_count": 2,
   "id": "34306bf3",
   "metadata": {},
   "outputs": [],
   "source": [
    "average_grade = sum(grades) / len(grades)"
   ]
  },
  {
   "cell_type": "code",
   "execution_count": 3,
   "id": "46365605",
   "metadata": {},
   "outputs": [],
   "source": [
    "if 90 <= average_grade <= 100:\n",
    "    letter_grade = \"A\"\n",
    "elif 80 <= average_grade < 90:\n",
    "    letter_grade = \"B\"\n",
    "elif 70 <= average_grade < 80:\n",
    "    letter_grade = \"C\"\n",
    "elif 60 <= average_grade < 70:\n",
    "    letter_grade = \"D\"\n",
    "else:\n",
    "    letter_grade = \"F\""
   ]
  },
  {
   "cell_type": "code",
   "execution_count": 4,
   "id": "e2000d22",
   "metadata": {},
   "outputs": [
    {
     "name": "stdout",
     "output_type": "stream",
     "text": [
      "Average Grade: 72.6\n",
      "Letter Grade: C\n"
     ]
    }
   ],
   "source": [
    "print(f\"Average Grade: {average_grade}\")\n",
    "print(f\"Letter Grade: {letter_grade}\")"
   ]
  },
  {
   "cell_type": "markdown",
   "id": "1c554403",
   "metadata": {},
   "source": [
    "# Task 2 : Tuple Unpacking"
   ]
  },
  {
   "cell_type": "code",
   "execution_count": 5,
   "id": "97d0c121",
   "metadata": {},
   "outputs": [],
   "source": [
    "student = (\"Shay\", \"Korhorn\", 19, \"Math\")"
   ]
  },
  {
   "cell_type": "code",
   "execution_count": 6,
   "id": "394f8d6c",
   "metadata": {},
   "outputs": [],
   "source": [
    "first_name, last_name, age, subject = student\n",
    "if age > 18:\n",
    "    is_adult = True\n",
    "else:\n",
    "    is_adult = False"
   ]
  },
  {
   "cell_type": "code",
   "execution_count": 7,
   "id": "5b674578",
   "metadata": {},
   "outputs": [
    {
     "name": "stdout",
     "output_type": "stream",
     "text": [
      "Shay Korhorn is an adult.\n"
     ]
    }
   ],
   "source": [
    "if is_adult:\n",
    "    print(f\"{first_name} {last_name} is an adult.\")\n",
    "else:\n",
    "    print(f\"{first_name} {last_name} is a minor.\")"
   ]
  },
  {
   "cell_type": "markdown",
   "id": "8807bd8c",
   "metadata": {},
   "source": [
    "# Task 3 : Month and Date"
   ]
  },
  {
   "cell_type": "code",
   "execution_count": 9,
   "id": "8bb016e1",
   "metadata": {},
   "outputs": [
    {
     "name": "stdout",
     "output_type": "stream",
     "text": [
      "Enter a number from 1 to 12: 6\n",
      "June has 30 days.\n"
     ]
    }
   ],
   "source": [
    "month_num = int(input(\"Enter a number from 1 to 12: \"))\n",
    "month_names = [\"January\", \"February\", \"March\", \"April\", \"May\", \"June\",\n",
    "    \"July\", \"August\", \"September\", \"October\", \"November\", \"December\"]\n",
    "\n",
    "if 1 <= month_num <= 12:\n",
    "    month_name = month_names[month_num - 1]\n",
    "    \n",
    "    days_in_month = [31, 28, 31, 30, 31, 30, 31, 31, 30, 31, 30, 31]\n",
    "    \n",
    "    num_days = days_in_month[month_num - 1]\n",
    "    \n",
    "    print(f\"{month_name} has {num_days} days.\")\n",
    "else:\n",
    "    print(\"Invalid.\")"
   ]
  },
  {
   "cell_type": "markdown",
   "id": "32f6adc8",
   "metadata": {},
   "source": [
    "# Task 4 : Triangle"
   ]
  },
  {
   "cell_type": "code",
   "execution_count": 11,
   "id": "472df153",
   "metadata": {},
   "outputs": [
    {
     "name": "stdout",
     "output_type": "stream",
     "text": [
      "Enter the length of side 1: 5\n",
      "Enter the length of side 2: 4\n",
      "Enter the length of side 3: 3\n",
      "The triangle is scalene.\n"
     ]
    }
   ],
   "source": [
    "side1 = float(input(\"Enter the length of side 1: \"))\n",
    "side2 = float(input(\"Enter the length of side 2: \"))\n",
    "side3 = float(input(\"Enter the length of side 3: \"))\n",
    "\n",
    "if side1 + side2 > side3 and side1 + side3 > side2 and side2 + side3 > side1:\n",
    "    if side1 == side2 == side3:\n",
    "        triangle_type = \"equilateral\"\n",
    "    elif side1 == side2 or side1 == side3 or side2 == side3:\n",
    "        triangle_type = \"isosceles\"\n",
    "    else:\n",
    "        triangle_type = \"scalene\"\n",
    "        \n",
    "    print(f\"The triangle is {triangle_type}.\")\n",
    "else:\n",
    "    print(\"The side lengths do not form a valid triangle.\")"
   ]
  },
  {
   "cell_type": "markdown",
   "id": "655a187c",
   "metadata": {},
   "source": [
    "# Task 5: List Comprehension and Filtering"
   ]
  },
  {
   "cell_type": "code",
   "execution_count": 12,
   "id": "7090447a",
   "metadata": {},
   "outputs": [],
   "source": [
    "numbers = list(range(21, 41))"
   ]
  },
  {
   "cell_type": "code",
   "execution_count": 13,
   "id": "e576012d",
   "metadata": {},
   "outputs": [
    {
     "name": "stdout",
     "output_type": "stream",
     "text": [
      "Numbers: [21, 22, 23, 24, 25, 26, 27, 28, 29, 30, 31, 32, 33, 34, 35, 36, 37, 38, 39, 40]\n",
      "Even Squares: [484, 576, 676, 784, 900, 1024, 1156, 1296, 1444, 1600]\n",
      "Odd Cubes: [9261, 12167, 15625, 19683, 24389, 29791, 35937, 42875, 50653, 59319]\n"
     ]
    }
   ],
   "source": [
    "even_squares = [x ** 2 for x in numbers if x % 2 == 0]\n",
    "\n",
    "odd_cubes = [x ** 3 for x in numbers if x % 2 != 0]\n",
    "\n",
    "print(\"Numbers:\", numbers)\n",
    "print(\"Even Squares:\", even_squares)\n",
    "print(\"Odd Cubes:\", odd_cubes)"
   ]
  }
 ],
 "metadata": {
  "kernelspec": {
   "display_name": "Python 3 (ipykernel)",
   "language": "python",
   "name": "python3"
  },
  "language_info": {
   "codemirror_mode": {
    "name": "ipython",
    "version": 3
   },
   "file_extension": ".py",
   "mimetype": "text/x-python",
   "name": "python",
   "nbconvert_exporter": "python",
   "pygments_lexer": "ipython3",
   "version": "3.11.4"
  }
 },
 "nbformat": 4,
 "nbformat_minor": 5
}
